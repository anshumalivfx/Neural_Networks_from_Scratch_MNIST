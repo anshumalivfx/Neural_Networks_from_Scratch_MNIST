{
 "cells": [
  {
   "cell_type": "code",
   "execution_count": 1,
   "id": "34d90576",
   "metadata": {
    "_cell_guid": "b1076dfc-b9ad-4769-8c92-a6c4dae69d19",
    "_uuid": "8f2839f25d086af736a60e9eeb907d3b93b6e0e5",
    "execution": {
     "iopub.execute_input": "2023-12-29T16:02:47.659540Z",
     "iopub.status.busy": "2023-12-29T16:02:47.659098Z",
     "iopub.status.idle": "2023-12-29T16:02:48.107636Z",
     "shell.execute_reply": "2023-12-29T16:02:48.106660Z"
    },
    "papermill": {
     "duration": 0.461195,
     "end_time": "2023-12-29T16:02:48.110526",
     "exception": false,
     "start_time": "2023-12-29T16:02:47.649331",
     "status": "completed"
    },
    "tags": []
   },
   "outputs": [],
   "source": [
    "import numpy as np\n",
    "import pandas as pd\n",
    "import matplotlib.pyplot as plt"
   ]
  },
  {
   "cell_type": "code",
   "execution_count": 2,
   "id": "8cdf38a4",
   "metadata": {
    "execution": {
     "iopub.execute_input": "2023-12-29T16:02:48.128357Z",
     "iopub.status.busy": "2023-12-29T16:02:48.127581Z",
     "iopub.status.idle": "2023-12-29T16:02:52.296637Z",
     "shell.execute_reply": "2023-12-29T16:02:52.295131Z"
    },
    "papermill": {
     "duration": 4.18225,
     "end_time": "2023-12-29T16:02:52.300429",
     "exception": false,
     "start_time": "2023-12-29T16:02:48.118179",
     "status": "completed"
    },
    "tags": []
   },
   "outputs": [],
   "source": [
    "data = pd.read_csv('/kaggle/input/digit-recognizer/train.csv', encoding='utf-8')"
   ]
  },
  {
   "cell_type": "code",
   "execution_count": 3,
   "id": "8f38a2eb",
   "metadata": {
    "execution": {
     "iopub.execute_input": "2023-12-29T16:02:52.318608Z",
     "iopub.status.busy": "2023-12-29T16:02:52.318182Z",
     "iopub.status.idle": "2023-12-29T16:02:52.351590Z",
     "shell.execute_reply": "2023-12-29T16:02:52.350467Z"
    },
    "papermill": {
     "duration": 0.045502,
     "end_time": "2023-12-29T16:02:52.354116",
     "exception": false,
     "start_time": "2023-12-29T16:02:52.308614",
     "status": "completed"
    },
    "tags": []
   },
   "outputs": [
    {
     "data": {
      "text/html": [
       "<div>\n",
       "<style scoped>\n",
       "    .dataframe tbody tr th:only-of-type {\n",
       "        vertical-align: middle;\n",
       "    }\n",
       "\n",
       "    .dataframe tbody tr th {\n",
       "        vertical-align: top;\n",
       "    }\n",
       "\n",
       "    .dataframe thead th {\n",
       "        text-align: right;\n",
       "    }\n",
       "</style>\n",
       "<table border=\"1\" class=\"dataframe\">\n",
       "  <thead>\n",
       "    <tr style=\"text-align: right;\">\n",
       "      <th></th>\n",
       "      <th>label</th>\n",
       "      <th>pixel0</th>\n",
       "      <th>pixel1</th>\n",
       "      <th>pixel2</th>\n",
       "      <th>pixel3</th>\n",
       "      <th>pixel4</th>\n",
       "      <th>pixel5</th>\n",
       "      <th>pixel6</th>\n",
       "      <th>pixel7</th>\n",
       "      <th>pixel8</th>\n",
       "      <th>...</th>\n",
       "      <th>pixel774</th>\n",
       "      <th>pixel775</th>\n",
       "      <th>pixel776</th>\n",
       "      <th>pixel777</th>\n",
       "      <th>pixel778</th>\n",
       "      <th>pixel779</th>\n",
       "      <th>pixel780</th>\n",
       "      <th>pixel781</th>\n",
       "      <th>pixel782</th>\n",
       "      <th>pixel783</th>\n",
       "    </tr>\n",
       "  </thead>\n",
       "  <tbody>\n",
       "    <tr>\n",
       "      <th>0</th>\n",
       "      <td>1</td>\n",
       "      <td>0</td>\n",
       "      <td>0</td>\n",
       "      <td>0</td>\n",
       "      <td>0</td>\n",
       "      <td>0</td>\n",
       "      <td>0</td>\n",
       "      <td>0</td>\n",
       "      <td>0</td>\n",
       "      <td>0</td>\n",
       "      <td>...</td>\n",
       "      <td>0</td>\n",
       "      <td>0</td>\n",
       "      <td>0</td>\n",
       "      <td>0</td>\n",
       "      <td>0</td>\n",
       "      <td>0</td>\n",
       "      <td>0</td>\n",
       "      <td>0</td>\n",
       "      <td>0</td>\n",
       "      <td>0</td>\n",
       "    </tr>\n",
       "    <tr>\n",
       "      <th>1</th>\n",
       "      <td>0</td>\n",
       "      <td>0</td>\n",
       "      <td>0</td>\n",
       "      <td>0</td>\n",
       "      <td>0</td>\n",
       "      <td>0</td>\n",
       "      <td>0</td>\n",
       "      <td>0</td>\n",
       "      <td>0</td>\n",
       "      <td>0</td>\n",
       "      <td>...</td>\n",
       "      <td>0</td>\n",
       "      <td>0</td>\n",
       "      <td>0</td>\n",
       "      <td>0</td>\n",
       "      <td>0</td>\n",
       "      <td>0</td>\n",
       "      <td>0</td>\n",
       "      <td>0</td>\n",
       "      <td>0</td>\n",
       "      <td>0</td>\n",
       "    </tr>\n",
       "    <tr>\n",
       "      <th>2</th>\n",
       "      <td>1</td>\n",
       "      <td>0</td>\n",
       "      <td>0</td>\n",
       "      <td>0</td>\n",
       "      <td>0</td>\n",
       "      <td>0</td>\n",
       "      <td>0</td>\n",
       "      <td>0</td>\n",
       "      <td>0</td>\n",
       "      <td>0</td>\n",
       "      <td>...</td>\n",
       "      <td>0</td>\n",
       "      <td>0</td>\n",
       "      <td>0</td>\n",
       "      <td>0</td>\n",
       "      <td>0</td>\n",
       "      <td>0</td>\n",
       "      <td>0</td>\n",
       "      <td>0</td>\n",
       "      <td>0</td>\n",
       "      <td>0</td>\n",
       "    </tr>\n",
       "    <tr>\n",
       "      <th>3</th>\n",
       "      <td>4</td>\n",
       "      <td>0</td>\n",
       "      <td>0</td>\n",
       "      <td>0</td>\n",
       "      <td>0</td>\n",
       "      <td>0</td>\n",
       "      <td>0</td>\n",
       "      <td>0</td>\n",
       "      <td>0</td>\n",
       "      <td>0</td>\n",
       "      <td>...</td>\n",
       "      <td>0</td>\n",
       "      <td>0</td>\n",
       "      <td>0</td>\n",
       "      <td>0</td>\n",
       "      <td>0</td>\n",
       "      <td>0</td>\n",
       "      <td>0</td>\n",
       "      <td>0</td>\n",
       "      <td>0</td>\n",
       "      <td>0</td>\n",
       "    </tr>\n",
       "    <tr>\n",
       "      <th>4</th>\n",
       "      <td>0</td>\n",
       "      <td>0</td>\n",
       "      <td>0</td>\n",
       "      <td>0</td>\n",
       "      <td>0</td>\n",
       "      <td>0</td>\n",
       "      <td>0</td>\n",
       "      <td>0</td>\n",
       "      <td>0</td>\n",
       "      <td>0</td>\n",
       "      <td>...</td>\n",
       "      <td>0</td>\n",
       "      <td>0</td>\n",
       "      <td>0</td>\n",
       "      <td>0</td>\n",
       "      <td>0</td>\n",
       "      <td>0</td>\n",
       "      <td>0</td>\n",
       "      <td>0</td>\n",
       "      <td>0</td>\n",
       "      <td>0</td>\n",
       "    </tr>\n",
       "  </tbody>\n",
       "</table>\n",
       "<p>5 rows × 785 columns</p>\n",
       "</div>"
      ],
      "text/plain": [
       "   label  pixel0  pixel1  pixel2  pixel3  pixel4  pixel5  pixel6  pixel7  \\\n",
       "0      1       0       0       0       0       0       0       0       0   \n",
       "1      0       0       0       0       0       0       0       0       0   \n",
       "2      1       0       0       0       0       0       0       0       0   \n",
       "3      4       0       0       0       0       0       0       0       0   \n",
       "4      0       0       0       0       0       0       0       0       0   \n",
       "\n",
       "   pixel8  ...  pixel774  pixel775  pixel776  pixel777  pixel778  pixel779  \\\n",
       "0       0  ...         0         0         0         0         0         0   \n",
       "1       0  ...         0         0         0         0         0         0   \n",
       "2       0  ...         0         0         0         0         0         0   \n",
       "3       0  ...         0         0         0         0         0         0   \n",
       "4       0  ...         0         0         0         0         0         0   \n",
       "\n",
       "   pixel780  pixel781  pixel782  pixel783  \n",
       "0         0         0         0         0  \n",
       "1         0         0         0         0  \n",
       "2         0         0         0         0  \n",
       "3         0         0         0         0  \n",
       "4         0         0         0         0  \n",
       "\n",
       "[5 rows x 785 columns]"
      ]
     },
     "execution_count": 3,
     "metadata": {},
     "output_type": "execute_result"
    }
   ],
   "source": [
    "data.head()"
   ]
  },
  {
   "cell_type": "code",
   "execution_count": null,
   "id": "2d916620",
   "metadata": {
    "papermill": {
     "duration": 0.007615,
     "end_time": "2023-12-29T16:02:52.369468",
     "exception": false,
     "start_time": "2023-12-29T16:02:52.361853",
     "status": "completed"
    },
    "tags": []
   },
   "outputs": [],
   "source": []
  },
  {
   "cell_type": "code",
   "execution_count": 4,
   "id": "4d2080f9",
   "metadata": {
    "execution": {
     "iopub.execute_input": "2023-12-29T16:02:52.388126Z",
     "iopub.status.busy": "2023-12-29T16:02:52.387376Z",
     "iopub.status.idle": "2023-12-29T16:02:53.250906Z",
     "shell.execute_reply": "2023-12-29T16:02:53.248658Z"
    },
    "papermill": {
     "duration": 0.878857,
     "end_time": "2023-12-29T16:02:53.256666",
     "exception": false,
     "start_time": "2023-12-29T16:02:52.377809",
     "status": "completed"
    },
    "tags": []
   },
   "outputs": [],
   "source": [
    "data = np.array(data)\n",
    "m, n = data.shape\n",
    "np.random.shuffle(data) # shuffle before splitting into dev and training sets\n",
    "\n",
    "data_dev = data[0:1000].T\n",
    "Y_dev = data_dev[0]\n",
    "X_dev = data_dev[1:n]\n",
    "X_dev = X_dev / 255.\n",
    "\n",
    "data_train = data[1000:m].T\n",
    "Y_train = data_train[0]\n",
    "X_train = data_train[1:n]\n",
    "X_train = X_train / 255.\n",
    "_,m_train = X_train.shape"
   ]
  },
  {
   "cell_type": "markdown",
   "id": "a6866826",
   "metadata": {},
   "source": [
    "## Activation Functions\n",
    "\n",
    "#### Rectified Linear Unit (ReLU):\n",
    "\n",
    "$$\\text{ReLU}(Z) = \\max(0, Z) \\$$\n",
    "\n",
    "#### Softmax:\n",
    "$$ \\text{softmax}(Z_i) = \\frac{e^{Z_i}}{\\sum_{j=1}^{10} e^{Z_j}} $$"
   ]
  },
  {
   "cell_type": "code",
   "execution_count": null,
   "id": "e199ce8b",
   "metadata": {},
   "outputs": [],
   "source": [
    "def ReLU(Z):\n",
    "    return np.maximum(Z, 0)\n",
    "\n",
    "def softmax(Z):\n",
    "    A = np.exp(Z) / sum(np.exp(Z))\n",
    "    return A"
   ]
  },
  {
   "cell_type": "markdown",
   "id": "5f3d5856",
   "metadata": {},
   "source": [
    "# Forward Propagation\n",
    "\n",
    "The forward propagation step computes the activations at each layer:\n",
    "\n",
    "$$ Z^{[1]} = W^{[1]} \\cdot X + b^{[1]} $$\n",
    "\n",
    "$$ A^{[1]} = \\text{ReLU}(Z^{[1]}) $$\n",
    "\n",
    "$$ Z^{[2]} = W^{[2]} \\cdot A^{[1]} + b^{[2]} $$\n",
    "\n",
    "$$ A^{[2]} = \\text{softmax}(Z^{[2]}) $$"
   ]
  },
  {
   "cell_type": "markdown",
   "id": "d11cdafe",
   "metadata": {},
   "source": [
    "# Back Propagation\n",
    "The backward propagation step computes the gradients with respect to the parameters:\n",
    "\n",
    "$$ \\frac{\\partial \\mathcal{L}}{\\partial Z^{[2]}} = A^{[2]} - (Y) $$\n",
    "\n",
    "$$ \\frac{\\partial W^{[2]}}{\\partial \\mathcal{L}} = \\frac{1}{m} \\frac{\\partial Z^{[2]}}{\\partial \\mathcal{L}} \\cdot (A^{[1]})^T $$\n",
    "\n",
    "$$ \\frac{\\partial b^{[2]}}{\\partial \\mathcal{L}} = \\frac{1}{m} \\sum_{i=1}^{m} \\frac{\\partial Z^{[2]}}{\\partial \\mathcal{L}} $$\n",
    "\n",
    "$$ \\frac{\\partial Z^{[1]}}{\\partial \\mathcal{L}} = (W^{[2]})^T \\cdot \\frac{\\partial Z^{[2]}}{\\partial \\mathcal{L}} \\cdot \\text{ReLU}'(Z^{[1]}) $$\n",
    "\n",
    "$$ \\frac{\\partial W^{[1]}}{\\partial \\mathcal{L}} = \\frac{1}{m} \\frac{\\partial Z^{[1]}}{\\partial \\mathcal{L}} \\cdot X^T $$\n",
    "\n",
    "$$ \\frac{\\partial b^{[1]}}{\\partial \\mathcal{L}} = \\frac{1}{m} \\sum_{i=1}^{m} \\frac{\\partial Z^{[1]}}{\\partial \\mathcal{L}} $$"
   ]
  },
  {
   "cell_type": "code",
   "execution_count": 5,
   "id": "2c58d31a",
   "metadata": {
    "execution": {
     "iopub.execute_input": "2023-12-29T16:02:53.281823Z",
     "iopub.status.busy": "2023-12-29T16:02:53.281026Z",
     "iopub.status.idle": "2023-12-29T16:02:53.300039Z",
     "shell.execute_reply": "2023-12-29T16:02:53.297429Z"
    },
    "papermill": {
     "duration": 0.036787,
     "end_time": "2023-12-29T16:02:53.304376",
     "exception": false,
     "start_time": "2023-12-29T16:02:53.267589",
     "status": "completed"
    },
    "tags": []
   },
   "outputs": [],
   "source": [
    "def init_params():\n",
    "    W1 = np.random.rand(10, 784) - 0.5\n",
    "    b1 = np.random.rand(10, 1) - 0.5\n",
    "    W2 = np.random.rand(10, 10) - 0.5\n",
    "    b2 = np.random.rand(10, 1) - 0.5\n",
    "    return W1, b1, W2, b2\n",
    "    \n",
    "def forward_prop(W1, b1, W2, b2, X):\n",
    "    Z1 = W1.dot(X) + b1\n",
    "    A1 = ReLU(Z1)\n",
    "    Z2 = W2.dot(A1) + b2\n",
    "    A2 = softmax(Z2)\n",
    "    return Z1, A1, Z2, A2\n",
    "\n",
    "def ReLU_deriv(Z):\n",
    "    return Z > 0\n",
    "\n",
    "def one_hot(Y):\n",
    "    one_hot_Y = np.zeros((Y.size, Y.max() + 1))\n",
    "    one_hot_Y[np.arange(Y.size), Y] = 1\n",
    "    one_hot_Y = one_hot_Y.T\n",
    "    return one_hot_Y\n",
    "\n",
    "def backward_prop(Z1, A1, Z2, A2, W1, W2, X, Y):\n",
    "    one_hot_Y = one_hot(Y)\n",
    "    dZ2 = A2 - one_hot_Y\n",
    "    dW2 = 1 / m * dZ2.dot(A1.T)\n",
    "    db2 = 1 / m * np.sum(dZ2)\n",
    "    dZ1 = W2.T.dot(dZ2) * ReLU_deriv(Z1)\n",
    "    dW1 = 1 / m * dZ1.dot(X.T)\n",
    "    db1 = 1 / m * np.sum(dZ1)\n",
    "    return dW1, db1, dW2, db2\n",
    "\n",
    "def update_params(W1, b1, W2, b2, dW1, db1, dW2, db2, alpha):\n",
    "    W1 = W1 - alpha * dW1\n",
    "    b1 = b1 - alpha * db1    \n",
    "    W2 = W2 - alpha * dW2  \n",
    "    b2 = b2 - alpha * db2    \n",
    "    return W1, b1, W2, b2"
   ]
  },
  {
   "cell_type": "code",
   "execution_count": 6,
   "id": "54f97eea",
   "metadata": {
    "execution": {
     "iopub.execute_input": "2023-12-29T16:02:53.322774Z",
     "iopub.status.busy": "2023-12-29T16:02:53.322372Z",
     "iopub.status.idle": "2023-12-29T16:02:53.332729Z",
     "shell.execute_reply": "2023-12-29T16:02:53.331564Z"
    },
    "papermill": {
     "duration": 0.02288,
     "end_time": "2023-12-29T16:02:53.335606",
     "exception": false,
     "start_time": "2023-12-29T16:02:53.312726",
     "status": "completed"
    },
    "tags": []
   },
   "outputs": [],
   "source": [
    "from tqdm import tqdm"
   ]
  },
  {
   "cell_type": "code",
   "execution_count": 7,
   "id": "99acd85e",
   "metadata": {
    "execution": {
     "iopub.execute_input": "2023-12-29T16:02:53.354052Z",
     "iopub.status.busy": "2023-12-29T16:02:53.352921Z",
     "iopub.status.idle": "2023-12-29T16:02:53.362481Z",
     "shell.execute_reply": "2023-12-29T16:02:53.361172Z"
    },
    "papermill": {
     "duration": 0.021952,
     "end_time": "2023-12-29T16:02:53.365497",
     "exception": false,
     "start_time": "2023-12-29T16:02:53.343545",
     "status": "completed"
    },
    "tags": []
   },
   "outputs": [],
   "source": [
    "def get_predictions(A2):\n",
    "    return np.argmax(A2, 0)\n",
    "\n",
    "def get_accuracy(predictions, Y):\n",
    "    print(predictions, Y)\n",
    "    return np.sum(predictions == Y) / Y.size\n",
    "\n",
    "def gradient_descent(X, Y, alpha, iterations):\n",
    "    W1, b1, W2, b2 = init_params()\n",
    "    for i in tqdm(range(iterations)):\n",
    "        Z1, A1, Z2, A2 = forward_prop(W1, b1, W2, b2, X)\n",
    "        dW1, db1, dW2, db2 = backward_prop(Z1, A1, Z2, A2, W1, W2, X, Y)\n",
    "        W1, b1, W2, b2 = update_params(W1, b1, W2, b2, dW1, db1, dW2, db2, alpha)\n",
    "        if i % 10 == 0:\n",
    "            print(\"Iteration: \", i)\n",
    "            predictions = get_predictions(A2)\n",
    "            print(get_accuracy(predictions, Y))\n",
    "    return W1, b1, W2, b2"
   ]
  },
  {
   "cell_type": "code",
   "execution_count": 8,
   "id": "3c11ea5b",
   "metadata": {
    "execution": {
     "iopub.execute_input": "2023-12-29T16:02:53.384037Z",
     "iopub.status.busy": "2023-12-29T16:02:53.383189Z",
     "iopub.status.idle": "2023-12-29T16:02:53.388372Z",
     "shell.execute_reply": "2023-12-29T16:02:53.387390Z"
    },
    "papermill": {
     "duration": 0.017909,
     "end_time": "2023-12-29T16:02:53.391245",
     "exception": false,
     "start_time": "2023-12-29T16:02:53.373336",
     "status": "completed"
    },
    "tags": []
   },
   "outputs": [],
   "source": [
    "eta = 0.1\n",
    "epochs = 500"
   ]
  },
  {
   "cell_type": "code",
   "execution_count": 9,
   "id": "c9e8b079",
   "metadata": {
    "execution": {
     "iopub.execute_input": "2023-12-29T16:02:53.410533Z",
     "iopub.status.busy": "2023-12-29T16:02:53.409530Z",
     "iopub.status.idle": "2023-12-29T16:04:12.427200Z",
     "shell.execute_reply": "2023-12-29T16:04:12.425948Z"
    },
    "papermill": {
     "duration": 79.03333,
     "end_time": "2023-12-29T16:04:12.433091",
     "exception": false,
     "start_time": "2023-12-29T16:02:53.399761",
     "status": "completed"
    },
    "tags": []
   },
   "outputs": [
    {
     "name": "stderr",
     "output_type": "stream",
     "text": [
      "  0%|          | 2/500 [00:00<01:41,  4.88it/s]"
     ]
    },
    {
     "name": "stdout",
     "output_type": "stream",
     "text": [
      "Iteration:  0\n",
      "[9 9 9 ... 9 9 9] [9 7 6 ... 5 0 6]\n",
      "0.11036585365853659\n"
     ]
    },
    {
     "name": "stderr",
     "output_type": "stream",
     "text": [
      "  2%|▏         | 12/500 [00:02<01:17,  6.27it/s]"
     ]
    },
    {
     "name": "stdout",
     "output_type": "stream",
     "text": [
      "Iteration:  10\n",
      "[2 2 3 ... 8 6 3] [9 7 6 ... 5 0 6]\n",
      "0.18158536585365853\n"
     ]
    },
    {
     "name": "stderr",
     "output_type": "stream",
     "text": [
      "  4%|▍         | 22/500 [00:03<01:14,  6.39it/s]"
     ]
    },
    {
     "name": "stdout",
     "output_type": "stream",
     "text": [
      "Iteration:  20\n",
      "[7 2 0 ... 8 6 9] [9 7 6 ... 5 0 6]\n",
      "0.269609756097561\n"
     ]
    },
    {
     "name": "stderr",
     "output_type": "stream",
     "text": [
      "  6%|▋         | 32/500 [00:05<01:12,  6.41it/s]"
     ]
    },
    {
     "name": "stdout",
     "output_type": "stream",
     "text": [
      "Iteration:  30\n",
      "[7 2 0 ... 8 6 9] [9 7 6 ... 5 0 6]\n",
      "0.34612195121951217\n"
     ]
    },
    {
     "name": "stderr",
     "output_type": "stream",
     "text": [
      "  8%|▊         | 42/500 [00:06<01:10,  6.54it/s]"
     ]
    },
    {
     "name": "stdout",
     "output_type": "stream",
     "text": [
      "Iteration:  40\n",
      "[7 7 0 ... 8 6 9] [9 7 6 ... 5 0 6]\n",
      "0.4127073170731707\n"
     ]
    },
    {
     "name": "stderr",
     "output_type": "stream",
     "text": [
      " 10%|█         | 52/500 [00:08<01:10,  6.33it/s]"
     ]
    },
    {
     "name": "stdout",
     "output_type": "stream",
     "text": [
      "Iteration:  50\n",
      "[7 7 6 ... 8 0 0] [9 7 6 ... 5 0 6]\n",
      "0.4787560975609756\n"
     ]
    },
    {
     "name": "stderr",
     "output_type": "stream",
     "text": [
      " 12%|█▏        | 61/500 [00:10<01:58,  3.71it/s]"
     ]
    },
    {
     "name": "stdout",
     "output_type": "stream",
     "text": [
      "Iteration:  60\n",
      "[7 7 6 ... 8 0 0] [9 7 6 ... 5 0 6]\n",
      "0.5268048780487805\n"
     ]
    },
    {
     "name": "stderr",
     "output_type": "stream",
     "text": [
      " 14%|█▍        | 72/500 [00:12<01:10,  6.06it/s]"
     ]
    },
    {
     "name": "stdout",
     "output_type": "stream",
     "text": [
      "Iteration:  70\n",
      "[7 7 6 ... 0 0 0] [9 7 6 ... 5 0 6]\n",
      "0.5663658536585365\n"
     ]
    },
    {
     "name": "stderr",
     "output_type": "stream",
     "text": [
      " 16%|█▋        | 82/500 [00:14<01:04,  6.45it/s]"
     ]
    },
    {
     "name": "stdout",
     "output_type": "stream",
     "text": [
      "Iteration:  80\n",
      "[7 7 6 ... 0 0 6] [9 7 6 ... 5 0 6]\n",
      "0.5954634146341463\n"
     ]
    },
    {
     "name": "stderr",
     "output_type": "stream",
     "text": [
      " 18%|█▊        | 92/500 [00:15<01:03,  6.44it/s]"
     ]
    },
    {
     "name": "stdout",
     "output_type": "stream",
     "text": [
      "Iteration:  90\n",
      "[7 7 6 ... 0 0 6] [9 7 6 ... 5 0 6]\n",
      "0.6162195121951219\n"
     ]
    },
    {
     "name": "stderr",
     "output_type": "stream",
     "text": [
      " 20%|██        | 102/500 [00:17<01:01,  6.51it/s]"
     ]
    },
    {
     "name": "stdout",
     "output_type": "stream",
     "text": [
      "Iteration:  100\n",
      "[7 7 6 ... 0 0 6] [9 7 6 ... 5 0 6]\n",
      "0.6374634146341464\n"
     ]
    },
    {
     "name": "stderr",
     "output_type": "stream",
     "text": [
      " 22%|██▏       | 112/500 [00:18<00:59,  6.53it/s]"
     ]
    },
    {
     "name": "stdout",
     "output_type": "stream",
     "text": [
      "Iteration:  110\n",
      "[7 7 6 ... 0 0 6] [9 7 6 ... 5 0 6]\n",
      "0.6562682926829269\n"
     ]
    },
    {
     "name": "stderr",
     "output_type": "stream",
     "text": [
      " 24%|██▍       | 122/500 [00:20<01:02,  6.00it/s]"
     ]
    },
    {
     "name": "stdout",
     "output_type": "stream",
     "text": [
      "Iteration:  120\n",
      "[7 7 6 ... 0 0 6] [9 7 6 ... 5 0 6]\n",
      "0.6719268292682927\n"
     ]
    },
    {
     "name": "stderr",
     "output_type": "stream",
     "text": [
      " 26%|██▋       | 132/500 [00:21<01:02,  5.89it/s]"
     ]
    },
    {
     "name": "stdout",
     "output_type": "stream",
     "text": [
      "Iteration:  130\n",
      "[7 7 6 ... 0 0 6] [9 7 6 ... 5 0 6]\n",
      "0.685609756097561\n"
     ]
    },
    {
     "name": "stderr",
     "output_type": "stream",
     "text": [
      " 28%|██▊       | 142/500 [00:23<00:55,  6.49it/s]"
     ]
    },
    {
     "name": "stdout",
     "output_type": "stream",
     "text": [
      "Iteration:  140\n",
      "[7 7 6 ... 0 0 6] [9 7 6 ... 5 0 6]\n",
      "0.6990975609756097\n"
     ]
    },
    {
     "name": "stderr",
     "output_type": "stream",
     "text": [
      " 30%|███       | 152/500 [00:25<00:52,  6.58it/s]"
     ]
    },
    {
     "name": "stdout",
     "output_type": "stream",
     "text": [
      "Iteration:  150\n",
      "[7 7 6 ... 0 0 6] [9 7 6 ... 5 0 6]\n",
      "0.7104634146341463\n"
     ]
    },
    {
     "name": "stderr",
     "output_type": "stream",
     "text": [
      " 32%|███▏      | 162/500 [00:26<00:50,  6.66it/s]"
     ]
    },
    {
     "name": "stdout",
     "output_type": "stream",
     "text": [
      "Iteration:  160\n",
      "[7 7 6 ... 0 0 6] [9 7 6 ... 5 0 6]\n",
      "0.720609756097561\n"
     ]
    },
    {
     "name": "stderr",
     "output_type": "stream",
     "text": [
      " 34%|███▍      | 172/500 [00:28<00:48,  6.69it/s]"
     ]
    },
    {
     "name": "stdout",
     "output_type": "stream",
     "text": [
      "Iteration:  170\n",
      "[7 7 6 ... 0 0 6] [9 7 6 ... 5 0 6]\n",
      "0.7296585365853658\n"
     ]
    },
    {
     "name": "stderr",
     "output_type": "stream",
     "text": [
      " 36%|███▋      | 182/500 [00:29<00:49,  6.40it/s]"
     ]
    },
    {
     "name": "stdout",
     "output_type": "stream",
     "text": [
      "Iteration:  180\n",
      "[7 7 6 ... 0 0 6] [9 7 6 ... 5 0 6]\n",
      "0.7382926829268293\n"
     ]
    },
    {
     "name": "stderr",
     "output_type": "stream",
     "text": [
      " 38%|███▊      | 192/500 [00:31<00:47,  6.46it/s]"
     ]
    },
    {
     "name": "stdout",
     "output_type": "stream",
     "text": [
      "Iteration:  190\n",
      "[9 7 6 ... 0 0 6] [9 7 6 ... 5 0 6]\n",
      "0.7460731707317073\n"
     ]
    },
    {
     "name": "stderr",
     "output_type": "stream",
     "text": [
      " 40%|████      | 202/500 [00:32<00:45,  6.60it/s]"
     ]
    },
    {
     "name": "stdout",
     "output_type": "stream",
     "text": [
      "Iteration:  200\n",
      "[9 7 6 ... 0 0 6] [9 7 6 ... 5 0 6]\n",
      "0.7532926829268293\n"
     ]
    },
    {
     "name": "stderr",
     "output_type": "stream",
     "text": [
      " 42%|████▏     | 212/500 [00:34<00:43,  6.59it/s]"
     ]
    },
    {
     "name": "stdout",
     "output_type": "stream",
     "text": [
      "Iteration:  210\n",
      "[9 7 6 ... 0 0 6] [9 7 6 ... 5 0 6]\n",
      "0.76\n"
     ]
    },
    {
     "name": "stderr",
     "output_type": "stream",
     "text": [
      " 44%|████▍     | 222/500 [00:35<00:42,  6.51it/s]"
     ]
    },
    {
     "name": "stdout",
     "output_type": "stream",
     "text": [
      "Iteration:  220\n",
      "[9 7 6 ... 0 0 6] [9 7 6 ... 5 0 6]\n",
      "0.7657073170731707\n"
     ]
    },
    {
     "name": "stderr",
     "output_type": "stream",
     "text": [
      " 46%|████▋     | 232/500 [00:37<00:40,  6.63it/s]"
     ]
    },
    {
     "name": "stdout",
     "output_type": "stream",
     "text": [
      "Iteration:  230\n",
      "[9 7 6 ... 0 0 6] [9 7 6 ... 5 0 6]\n",
      "0.7713170731707317\n"
     ]
    },
    {
     "name": "stderr",
     "output_type": "stream",
     "text": [
      " 48%|████▊     | 242/500 [00:38<00:38,  6.77it/s]"
     ]
    },
    {
     "name": "stdout",
     "output_type": "stream",
     "text": [
      "Iteration:  240\n",
      "[9 7 6 ... 0 0 6] [9 7 6 ... 5 0 6]\n",
      "0.7767560975609756\n"
     ]
    },
    {
     "name": "stderr",
     "output_type": "stream",
     "text": [
      " 50%|█████     | 252/500 [00:40<00:39,  6.35it/s]"
     ]
    },
    {
     "name": "stdout",
     "output_type": "stream",
     "text": [
      "Iteration:  250\n",
      "[9 7 6 ... 0 0 6] [9 7 6 ... 5 0 6]\n",
      "0.7816829268292683\n"
     ]
    },
    {
     "name": "stderr",
     "output_type": "stream",
     "text": [
      " 52%|█████▏    | 261/500 [00:41<00:53,  4.49it/s]"
     ]
    },
    {
     "name": "stdout",
     "output_type": "stream",
     "text": [
      "Iteration:  260\n",
      "[9 7 6 ... 0 0 6] [9 7 6 ... 5 0 6]\n",
      "0.7868780487804878\n"
     ]
    },
    {
     "name": "stderr",
     "output_type": "stream",
     "text": [
      " 54%|█████▍    | 272/500 [00:44<00:40,  5.57it/s]"
     ]
    },
    {
     "name": "stdout",
     "output_type": "stream",
     "text": [
      "Iteration:  270\n",
      "[9 7 6 ... 0 0 6] [9 7 6 ... 5 0 6]\n",
      "0.7910975609756098\n"
     ]
    },
    {
     "name": "stderr",
     "output_type": "stream",
     "text": [
      " 56%|█████▋    | 282/500 [00:45<00:32,  6.80it/s]"
     ]
    },
    {
     "name": "stdout",
     "output_type": "stream",
     "text": [
      "Iteration:  280\n",
      "[9 7 6 ... 0 0 6] [9 7 6 ... 5 0 6]\n",
      "0.7958780487804878\n"
     ]
    },
    {
     "name": "stderr",
     "output_type": "stream",
     "text": [
      " 58%|█████▊    | 292/500 [00:47<00:31,  6.54it/s]"
     ]
    },
    {
     "name": "stdout",
     "output_type": "stream",
     "text": [
      "Iteration:  290\n",
      "[9 7 6 ... 0 0 6] [9 7 6 ... 5 0 6]\n",
      "0.7999512195121952\n"
     ]
    },
    {
     "name": "stderr",
     "output_type": "stream",
     "text": [
      " 60%|██████    | 302/500 [00:48<00:29,  6.76it/s]"
     ]
    },
    {
     "name": "stdout",
     "output_type": "stream",
     "text": [
      "Iteration:  300\n",
      "[9 7 6 ... 0 0 6] [9 7 6 ... 5 0 6]\n",
      "0.803439024390244\n"
     ]
    },
    {
     "name": "stderr",
     "output_type": "stream",
     "text": [
      " 62%|██████▏   | 312/500 [00:50<00:29,  6.43it/s]"
     ]
    },
    {
     "name": "stdout",
     "output_type": "stream",
     "text": [
      "Iteration:  310\n",
      "[9 7 6 ... 0 0 6] [9 7 6 ... 5 0 6]\n",
      "0.8069268292682927\n"
     ]
    },
    {
     "name": "stderr",
     "output_type": "stream",
     "text": [
      " 64%|██████▍   | 322/500 [00:51<00:26,  6.84it/s]"
     ]
    },
    {
     "name": "stdout",
     "output_type": "stream",
     "text": [
      "Iteration:  320\n",
      "[9 7 6 ... 0 0 6] [9 7 6 ... 5 0 6]\n",
      "0.8109024390243903\n"
     ]
    },
    {
     "name": "stderr",
     "output_type": "stream",
     "text": [
      " 66%|██████▋   | 332/500 [00:53<00:24,  6.88it/s]"
     ]
    },
    {
     "name": "stdout",
     "output_type": "stream",
     "text": [
      "Iteration:  330\n",
      "[9 7 6 ... 0 0 6] [9 7 6 ... 5 0 6]\n",
      "0.8133414634146341\n"
     ]
    },
    {
     "name": "stderr",
     "output_type": "stream",
     "text": [
      " 68%|██████▊   | 342/500 [00:54<00:22,  6.91it/s]"
     ]
    },
    {
     "name": "stdout",
     "output_type": "stream",
     "text": [
      "Iteration:  340\n",
      "[9 7 6 ... 0 0 6] [9 7 6 ... 5 0 6]\n",
      "0.8162195121951219\n"
     ]
    },
    {
     "name": "stderr",
     "output_type": "stream",
     "text": [
      " 70%|███████   | 352/500 [00:56<00:21,  6.75it/s]"
     ]
    },
    {
     "name": "stdout",
     "output_type": "stream",
     "text": [
      "Iteration:  350\n",
      "[9 7 6 ... 0 0 6] [9 7 6 ... 5 0 6]\n",
      "0.8192439024390243\n"
     ]
    },
    {
     "name": "stderr",
     "output_type": "stream",
     "text": [
      " 72%|███████▏  | 362/500 [00:57<00:20,  6.88it/s]"
     ]
    },
    {
     "name": "stdout",
     "output_type": "stream",
     "text": [
      "Iteration:  360\n",
      "[9 7 6 ... 0 0 6] [9 7 6 ... 5 0 6]\n",
      "0.8216829268292682\n"
     ]
    },
    {
     "name": "stderr",
     "output_type": "stream",
     "text": [
      " 74%|███████▍  | 372/500 [00:59<00:18,  6.88it/s]"
     ]
    },
    {
     "name": "stdout",
     "output_type": "stream",
     "text": [
      "Iteration:  370\n",
      "[9 7 6 ... 0 0 6] [9 7 6 ... 5 0 6]\n",
      "0.8239756097560975\n"
     ]
    },
    {
     "name": "stderr",
     "output_type": "stream",
     "text": [
      " 76%|███████▋  | 382/500 [01:00<00:18,  6.34it/s]"
     ]
    },
    {
     "name": "stdout",
     "output_type": "stream",
     "text": [
      "Iteration:  380\n",
      "[9 7 6 ... 0 0 6] [9 7 6 ... 5 0 6]\n",
      "0.8257073170731707\n"
     ]
    },
    {
     "name": "stderr",
     "output_type": "stream",
     "text": [
      " 78%|███████▊  | 392/500 [01:02<00:15,  6.84it/s]"
     ]
    },
    {
     "name": "stdout",
     "output_type": "stream",
     "text": [
      "Iteration:  390\n",
      "[9 7 6 ... 0 0 6] [9 7 6 ... 5 0 6]\n",
      "0.8284146341463414\n"
     ]
    },
    {
     "name": "stderr",
     "output_type": "stream",
     "text": [
      " 80%|████████  | 402/500 [01:03<00:14,  6.81it/s]"
     ]
    },
    {
     "name": "stdout",
     "output_type": "stream",
     "text": [
      "Iteration:  400\n",
      "[9 7 6 ... 0 0 6] [9 7 6 ... 5 0 6]\n",
      "0.8307073170731707\n"
     ]
    },
    {
     "name": "stderr",
     "output_type": "stream",
     "text": [
      " 82%|████████▏ | 412/500 [01:05<00:12,  6.86it/s]"
     ]
    },
    {
     "name": "stdout",
     "output_type": "stream",
     "text": [
      "Iteration:  410\n",
      "[9 7 6 ... 0 0 6] [9 7 6 ... 5 0 6]\n",
      "0.8327073170731707\n"
     ]
    },
    {
     "name": "stderr",
     "output_type": "stream",
     "text": [
      " 84%|████████▍ | 422/500 [01:06<00:11,  7.00it/s]"
     ]
    },
    {
     "name": "stdout",
     "output_type": "stream",
     "text": [
      "Iteration:  420\n",
      "[9 7 6 ... 0 0 6] [9 7 6 ... 5 0 6]\n",
      "0.8344146341463414\n"
     ]
    },
    {
     "name": "stderr",
     "output_type": "stream",
     "text": [
      " 86%|████████▋ | 432/500 [01:07<00:09,  6.98it/s]"
     ]
    },
    {
     "name": "stdout",
     "output_type": "stream",
     "text": [
      "Iteration:  430\n",
      "[9 7 6 ... 0 0 6] [9 7 6 ... 5 0 6]\n",
      "0.8364390243902439\n"
     ]
    },
    {
     "name": "stderr",
     "output_type": "stream",
     "text": [
      " 88%|████████▊ | 442/500 [01:09<00:08,  6.52it/s]"
     ]
    },
    {
     "name": "stdout",
     "output_type": "stream",
     "text": [
      "Iteration:  440\n",
      "[9 7 6 ... 0 0 6] [9 7 6 ... 5 0 6]\n",
      "0.838390243902439\n"
     ]
    },
    {
     "name": "stderr",
     "output_type": "stream",
     "text": [
      " 90%|█████████ | 452/500 [01:11<00:07,  6.71it/s]"
     ]
    },
    {
     "name": "stdout",
     "output_type": "stream",
     "text": [
      "Iteration:  450\n",
      "[9 7 6 ... 0 0 6] [9 7 6 ... 5 0 6]\n",
      "0.8399268292682927\n"
     ]
    },
    {
     "name": "stderr",
     "output_type": "stream",
     "text": [
      " 92%|█████████▏| 462/500 [01:12<00:05,  6.93it/s]"
     ]
    },
    {
     "name": "stdout",
     "output_type": "stream",
     "text": [
      "Iteration:  460\n",
      "[9 7 6 ... 0 0 6] [9 7 6 ... 5 0 6]\n",
      "0.8418292682926829\n"
     ]
    },
    {
     "name": "stderr",
     "output_type": "stream",
     "text": [
      " 94%|█████████▍| 472/500 [01:13<00:04,  6.89it/s]"
     ]
    },
    {
     "name": "stdout",
     "output_type": "stream",
     "text": [
      "Iteration:  470\n",
      "[9 7 6 ... 0 0 6] [9 7 6 ... 5 0 6]\n",
      "0.8435121951219512\n"
     ]
    },
    {
     "name": "stderr",
     "output_type": "stream",
     "text": [
      " 96%|█████████▌| 481/500 [01:16<00:04,  4.19it/s]"
     ]
    },
    {
     "name": "stdout",
     "output_type": "stream",
     "text": [
      "Iteration:  480\n",
      "[9 7 6 ... 0 0 6] [9 7 6 ... 5 0 6]\n",
      "0.8448780487804878\n"
     ]
    },
    {
     "name": "stderr",
     "output_type": "stream",
     "text": [
      " 98%|█████████▊| 492/500 [01:17<00:01,  6.85it/s]"
     ]
    },
    {
     "name": "stdout",
     "output_type": "stream",
     "text": [
      "Iteration:  490\n",
      "[9 7 6 ... 0 0 6] [9 7 6 ... 5 0 6]\n",
      "0.8462682926829268\n"
     ]
    },
    {
     "name": "stderr",
     "output_type": "stream",
     "text": [
      "100%|██████████| 500/500 [01:19<00:00,  6.33it/s]\n"
     ]
    }
   ],
   "source": [
    "W1, b1, W2, b2 = gradient_descent(X_train, Y_train, eta, epochs)"
   ]
  },
  {
   "cell_type": "code",
   "execution_count": 10,
   "id": "8cab1fbb",
   "metadata": {
    "execution": {
     "iopub.execute_input": "2023-12-29T16:04:12.614853Z",
     "iopub.status.busy": "2023-12-29T16:04:12.614459Z",
     "iopub.status.idle": "2023-12-29T16:04:12.623493Z",
     "shell.execute_reply": "2023-12-29T16:04:12.622177Z"
    },
    "papermill": {
     "duration": 0.075958,
     "end_time": "2023-12-29T16:04:12.625928",
     "exception": false,
     "start_time": "2023-12-29T16:04:12.549970",
     "status": "completed"
    },
    "tags": []
   },
   "outputs": [],
   "source": [
    "def make_predictions(X, W1, b1, W2, b2):\n",
    "    _, _, _, A2 = forward_prop(W1, b1, W2, b2, X)\n",
    "    predictions = get_predictions(A2)\n",
    "    return predictions\n",
    "\n",
    "def test_prediction(index, W1, b1, W2, b2):\n",
    "    current_image = X_train[:, index, None]\n",
    "    prediction = make_predictions(X_train[:, index, None], W1, b1, W2, b2)\n",
    "    label = Y_train[index]\n",
    "    print(\"Prediction: \", prediction)\n",
    "    print(\"Label: \", label)\n",
    "    \n",
    "    current_image = current_image.reshape((28, 28)) * 255\n",
    "    plt.gray()\n",
    "    plt.imshow(current_image, interpolation='nearest')\n",
    "    plt.show()"
   ]
  },
  {
   "cell_type": "code",
   "execution_count": 11,
   "id": "bb1704ec",
   "metadata": {
    "execution": {
     "iopub.execute_input": "2023-12-29T16:04:12.749711Z",
     "iopub.status.busy": "2023-12-29T16:04:12.748975Z",
     "iopub.status.idle": "2023-12-29T16:04:13.833474Z",
     "shell.execute_reply": "2023-12-29T16:04:13.832485Z"
    },
    "papermill": {
     "duration": 1.148982,
     "end_time": "2023-12-29T16:04:13.836180",
     "exception": false,
     "start_time": "2023-12-29T16:04:12.687198",
     "status": "completed"
    },
    "tags": []
   },
   "outputs": [
    {
     "name": "stdout",
     "output_type": "stream",
     "text": [
      "Prediction:  [9]\n",
      "Label:  9\n"
     ]
    },
    {
     "data": {
      "image/png": "[encoded data removed]",
      "text/plain": [
       "<Figure size 640x480 with 1 Axes>"
      ]
     },
     "metadata": {},
     "output_type": "display_data"
    },
    {
     "name": "stdout",
     "output_type": "stream",
     "text": [
      "Prediction:  [7]\n",
      "Label:  7\n"
     ]
    },
    {
     "data": {
      "image/png": "[encoded data removed]",
      "text/plain": [
       "<Figure size 640x480 with 1 Axes>"
      ]
     },
     "metadata": {},
     "output_type": "display_data"
    },
    {
     "name": "stdout",
     "output_type": "stream",
     "text": [
      "Prediction:  [6]\n",
      "Label:  6\n"
     ]
    },
    {
     "data": {
      "image/png": "[encoded data removed]",
      "text/plain": [
       "<Figure size 640x480 with 1 Axes>"
      ]
     },
     "metadata": {},
     "output_type": "display_data"
    },
    {
     "name": "stdout",
     "output_type": "stream",
     "text": [
      "Prediction:  [5]\n",
      "Label:  5\n"
     ]
    },
    {
     "data": {
      "image/png": "[encoded data removed]",
      "text/plain": [
       "<Figure size 640x480 with 1 Axes>"
      ]
     },
     "metadata": {},
     "output_type": "display_data"
    }
   ],
   "source": [
    "test_prediction(0, W1, b1, W2, b2)\n",
    "test_prediction(1, W1, b1, W2, b2)\n",
    "test_prediction(2, W1, b1, W2, b2)\n",
    "test_prediction(3, W1, b1, W2, b2)"
   ]
  },
  {
   "cell_type": "code",
   "execution_count": 12,
   "id": "252026b1",
   "metadata": {
    "execution": {
     "iopub.execute_input": "2023-12-29T16:04:14.028160Z",
     "iopub.status.busy": "2023-12-29T16:04:14.027366Z",
     "iopub.status.idle": "2023-12-29T16:04:16.596342Z",
     "shell.execute_reply": "2023-12-29T16:04:16.594961Z"
    },
    "papermill": {
     "duration": 2.700769,
     "end_time": "2023-12-29T16:04:16.599537",
     "exception": false,
     "start_time": "2023-12-29T16:04:13.898768",
     "status": "completed"
    },
    "tags": []
   },
   "outputs": [],
   "source": [
    "test_data = pd.read_csv('/kaggle/input/digit-recognizer/test.csv')"
   ]
  },
  {
   "cell_type": "code",
   "execution_count": 13,
   "id": "07da30af",
   "metadata": {
    "execution": {
     "iopub.execute_input": "2023-12-29T16:04:16.726228Z",
     "iopub.status.busy": "2023-12-29T16:04:16.725564Z",
     "iopub.status.idle": "2023-12-29T16:04:16.956369Z",
     "shell.execute_reply": "2023-12-29T16:04:16.954857Z"
    },
    "papermill": {
     "duration": 0.299502,
     "end_time": "2023-12-29T16:04:16.961057",
     "exception": false,
     "start_time": "2023-12-29T16:04:16.661555",
     "status": "completed"
    },
    "tags": []
   },
   "outputs": [],
   "source": [
    "test_data = np.array(test_data)\n",
    "m, n = test_data.shape\n",
    "\n",
    "test_data = test_data[0:m].T\n",
    "X_train = test_data\n",
    "Y_train = test_data[0]\n",
    "X_train = X_train / 255\n",
    "\n",
    "\n",
    "# submission_df = pd.DataFrame({'Id': test.Id, 'SalePrice': predicted_prices})\n",
    "\n",
    "ImageId = []\n",
    "predictions = []\n",
    "\n",
    "prediction = make_predictions(X_train, W1, b1, W2, b2)\n",
    "# prediction = make_predictions(X_train[:,m, None], W1, b1, W2, b2)\n",
    "# current_image = X_train[:, 1, None]\n",
    "# current_image = current_image.reshape((28, 28)) * 255\n",
    "# plt.gray()\n",
    "# plt.imshow(current_image, interpolation='nearest')\n",
    "# plt.show()\n",
    "\n",
    "# print(prediction)"
   ]
  },
  {
   "cell_type": "code",
   "execution_count": 14,
   "id": "1271f163",
   "metadata": {
    "execution": {
     "iopub.execute_input": "2023-12-29T16:04:17.135427Z",
     "iopub.status.busy": "2023-12-29T16:04:17.135039Z",
     "iopub.status.idle": "2023-12-29T16:04:17.141720Z",
     "shell.execute_reply": "2023-12-29T16:04:17.140636Z"
    },
    "papermill": {
     "duration": 0.074064,
     "end_time": "2023-12-29T16:04:17.145660",
     "exception": false,
     "start_time": "2023-12-29T16:04:17.071596",
     "status": "completed"
    },
    "tags": []
   },
   "outputs": [
    {
     "data": {
      "text/plain": [
       "(28000,)"
      ]
     },
     "execution_count": 14,
     "metadata": {},
     "output_type": "execute_result"
    }
   ],
   "source": [
    "prediction.shape"
   ]
  },
  {
   "cell_type": "code",
   "execution_count": 15,
   "id": "935cb2ba",
   "metadata": {
    "execution": {
     "iopub.execute_input": "2023-12-29T16:04:17.270704Z",
     "iopub.status.busy": "2023-12-29T16:04:17.270325Z",
     "iopub.status.idle": "2023-12-29T16:04:17.276471Z",
     "shell.execute_reply": "2023-12-29T16:04:17.275379Z"
    },
    "papermill": {
     "duration": 0.072443,
     "end_time": "2023-12-29T16:04:17.279700",
     "exception": false,
     "start_time": "2023-12-29T16:04:17.207257",
     "status": "completed"
    },
    "tags": []
   },
   "outputs": [
    {
     "data": {
      "text/plain": [
       "(28000,)"
      ]
     },
     "execution_count": 15,
     "metadata": {},
     "output_type": "execute_result"
    }
   ],
   "source": [
    "Y_train.shape"
   ]
  },
  {
   "cell_type": "code",
   "execution_count": 16,
   "id": "8ebc335f",
   "metadata": {
    "execution": {
     "iopub.execute_input": "2023-12-29T16:04:17.406825Z",
     "iopub.status.busy": "2023-12-29T16:04:17.406417Z",
     "iopub.status.idle": "2023-12-29T16:04:17.412654Z",
     "shell.execute_reply": "2023-12-29T16:04:17.411522Z"
    },
    "papermill": {
     "duration": 0.074004,
     "end_time": "2023-12-29T16:04:17.414987",
     "exception": false,
     "start_time": "2023-12-29T16:04:17.340983",
     "status": "completed"
    },
    "tags": []
   },
   "outputs": [],
   "source": [
    "my_submission = pd.DataFrame({'ImageId': range(0, len(prediction)), 'Label': prediction})"
   ]
  },
  {
   "cell_type": "code",
   "execution_count": 17,
   "id": "cddd1c72",
   "metadata": {
    "execution": {
     "iopub.execute_input": "2023-12-29T16:04:17.541815Z",
     "iopub.status.busy": "2023-12-29T16:04:17.540827Z",
     "iopub.status.idle": "2023-12-29T16:04:17.552228Z",
     "shell.execute_reply": "2023-12-29T16:04:17.551103Z"
    },
    "papermill": {
     "duration": 0.077234,
     "end_time": "2023-12-29T16:04:17.554771",
     "exception": false,
     "start_time": "2023-12-29T16:04:17.477537",
     "status": "completed"
    },
    "tags": []
   },
   "outputs": [
    {
     "data": {
      "text/html": [
       "<div>\n",
       "<style scoped>\n",
       "    .dataframe tbody tr th:only-of-type {\n",
       "        vertical-align: middle;\n",
       "    }\n",
       "\n",
       "    .dataframe tbody tr th {\n",
       "        vertical-align: top;\n",
       "    }\n",
       "\n",
       "    .dataframe thead th {\n",
       "        text-align: right;\n",
       "    }\n",
       "</style>\n",
       "<table border=\"1\" class=\"dataframe\">\n",
       "  <thead>\n",
       "    <tr style=\"text-align: right;\">\n",
       "      <th></th>\n",
       "      <th>ImageId</th>\n",
       "      <th>Label</th>\n",
       "    </tr>\n",
       "  </thead>\n",
       "  <tbody>\n",
       "    <tr>\n",
       "      <th>0</th>\n",
       "      <td>0</td>\n",
       "      <td>2</td>\n",
       "    </tr>\n",
       "    <tr>\n",
       "      <th>1</th>\n",
       "      <td>1</td>\n",
       "      <td>0</td>\n",
       "    </tr>\n",
       "    <tr>\n",
       "      <th>2</th>\n",
       "      <td>2</td>\n",
       "      <td>9</td>\n",
       "    </tr>\n",
       "    <tr>\n",
       "      <th>3</th>\n",
       "      <td>3</td>\n",
       "      <td>9</td>\n",
       "    </tr>\n",
       "    <tr>\n",
       "      <th>4</th>\n",
       "      <td>4</td>\n",
       "      <td>2</td>\n",
       "    </tr>\n",
       "  </tbody>\n",
       "</table>\n",
       "</div>"
      ],
      "text/plain": [
       "   ImageId  Label\n",
       "0        0      2\n",
       "1        1      0\n",
       "2        2      9\n",
       "3        3      9\n",
       "4        4      2"
      ]
     },
     "execution_count": 17,
     "metadata": {},
     "output_type": "execute_result"
    }
   ],
   "source": [
    "my_submission.head()"
   ]
  },
  {
   "cell_type": "code",
   "execution_count": 19,
   "id": "f066891a",
   "metadata": {
    "execution": {
     "iopub.execute_input": "2023-12-29T16:04:17.822202Z",
     "iopub.status.busy": "2023-12-29T16:04:17.821171Z",
     "iopub.status.idle": "2023-12-29T16:04:17.894159Z",
     "shell.execute_reply": "2023-12-29T16:04:17.893052Z"
    },
    "papermill": {
     "duration": 0.138675,
     "end_time": "2023-12-29T16:04:17.897060",
     "exception": false,
     "start_time": "2023-12-29T16:04:17.758385",
     "status": "completed"
    },
    "tags": []
   },
   "outputs": [],
   "source": [
    "my_submission.to_csv('submission.csv', index=False)"
   ]
  },
  {
   "cell_type": "code",
   "execution_count": null,
   "id": "ec79bfed",
   "metadata": {
    "papermill": {
     "duration": 0.063828,
     "end_time": "2023-12-29T16:04:18.026822",
     "exception": false,
     "start_time": "2023-12-29T16:04:17.962994",
     "status": "completed"
    },
    "tags": []
   },
   "outputs": [],
   "source": []
  }
 ],
 "metadata": {
  "kaggle": {
   "accelerator": "none",
   "dataSources": [
    {
     "databundleVersionId": 861823,
     "sourceId": 3004,
     "sourceType": "competition"
    }
   ],
   "dockerImageVersionId": 30626,
   "isGpuEnabled": false,
   "isInternetEnabled": true,
   "language": "python",
   "sourceType": "notebook"
  },
  "kernelspec": {
   "display_name": "Python 3",
   "language": "python",
   "name": "python3"
  },
  "language_info": {
   "codemirror_mode": {
    "name": "ipython",
    "version": 3
   },
   "file_extension": ".py",
   "mimetype": "text/x-python",
   "name": "python",
   "nbconvert_exporter": "python",
   "pygments_lexer": "ipython3",
   "version": "3.10.12"
  },
  "papermill": {
   "default_parameters": {},
   "duration": 94.619059,
   "end_time": "2023-12-29T16:04:18.614083",
   "environment_variables": {},
   "exception": null,
   "input_path": "__notebook__.ipynb",
   "output_path": "__notebook__.ipynb",
   "parameters": {},
   "start_time": "2023-12-29T16:02:43.995024",
   "version": "2.4.0"
  }
 },
 "nbformat": 4,
 "nbformat_minor": 5
}
